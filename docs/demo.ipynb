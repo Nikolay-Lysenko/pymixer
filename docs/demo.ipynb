{
 "cells": [
  {
   "cell_type": "markdown",
   "metadata": {},
   "source": [
    "# PyMixer demo\n",
    "\n",
    "This notebook contains code snippets showing how `pymixer` package can be used."
   ]
  },
  {
   "cell_type": "markdown",
   "metadata": {},
   "source": [
    "### Setup"
   ]
  },
  {
   "cell_type": "markdown",
   "metadata": {},
   "source": [
    "Let us import required modules, classes, and functions."
   ]
  },
  {
   "cell_type": "code",
   "execution_count": null,
   "metadata": {},
   "outputs": [],
   "source": [
    "import os\n",
    "\n",
    "import IPython.display\n",
    "import numpy as np\n",
    "import pretty_midi\n",
    "from pymixer.core import FluidsynthMidiInput, SinethesizerMidiInput, Project\n",
    "from pymixer.midi import merge_midi_objects, split_midi_file_by_instruments\n",
    "from sinethesizer.synth.core import Event\n",
    "from sinethesizer.effects.reverb import apply_room_reverb\n",
    "from sinethesizer.effects.stereo import apply_stereo_to_mono_conversion\n",
    "from sinethesizer.io.events_to_wav import write_timeline_to_wav"
   ]
  },
  {
   "cell_type": "markdown",
   "metadata": {},
   "source": [
    "Then, suppose that three directories are defined: one with input MIDI files, one for saving intermediate data, and one for saving final outputs."
   ]
  },
  {
   "cell_type": "code",
   "execution_count": null,
   "metadata": {},
   "outputs": [],
   "source": [
    "input_dir = \"...\"  # Insert your value.\n",
    "intermediate_dir = \"...\"  # Insert your value.\n",
    "output_dir = \"...\"  # Insert your value."
   ]
  },
  {
   "cell_type": "markdown",
   "metadata": {},
   "source": [
    "### Case 1. MIDI merging\n",
    "\n",
    "Given directory with MIDI files, combine all of them in sequence into a single MIDI file. Precedence of the files should be defined by their names."
   ]
  },
  {
   "cell_type": "code",
   "execution_count": null,
   "metadata": {},
   "outputs": [],
   "source": [
    "midi_objects = []\n",
    "for file_name in sorted(os.listdir(input_dir)):\n",
    "    if not file_name.endswith('.mid'):\n",
    "        continue\n",
    "    midi_objects.append(pretty_midi.PrettyMIDI(f'{input_dir}/{file_name}'))"
   ]
  },
  {
   "cell_type": "code",
   "execution_count": null,
   "metadata": {},
   "outputs": [],
   "source": [
    "merged_midi_object = merge_midi_objects(\n",
    "    midi_objects,\n",
    "    opening_silence_in_sec=1.0,\n",
    "    trailing_silence_in_sec=1.0,\n",
    "    # Below value assumes that there are exactly 3 files in the directory and no silence between them is needed.\n",
    "    caesuras_in_sec=[0, 0],\n",
    "    # Below value assumes that there are 3 tracks named 0, 1, and 2, and program 2 should be used for all of them.\n",
    "    instrument_name_to_program={0: 2, 1: 2, 2: 2, 3: 2}\n",
    ")\n",
    "track_path = f'{intermediate_dir}/track.mid'\n",
    "merged_midi_object.write(track_path)"
   ]
  },
  {
   "cell_type": "markdown",
   "metadata": {},
   "source": [
    "### Case 2. Saving each MIDI track to a separate MIDI file"
   ]
  },
  {
   "cell_type": "code",
   "execution_count": null,
   "metadata": {},
   "outputs": [],
   "source": [
    "split_midi_file_by_instruments(track_path, intermediate_dir)"
   ]
  },
  {
   "cell_type": "markdown",
   "metadata": {},
   "source": [
    "### Case 3. Creating PyMixer project"
   ]
  },
  {
   "cell_type": "code",
   "execution_count": null,
   "metadata": {},
   "outputs": [],
   "source": [
    "soundfont_path = '...'  # Insert your path.\n",
    "sinethesizer_presets_path = '...'  # Insert your path."
   ]
  },
  {
   "cell_type": "code",
   "execution_count": null,
   "metadata": {},
   "outputs": [],
   "source": [
    "inputs = [\n",
    "    FluidsynthMidiInput(\n",
    "        f'{intermediate_dir}/track_1.mid',\n",
    "        soundfont_path,\n",
    "        fluidsynth_chorus=True,\n",
    "        fluidsynth_reverb=False,\n",
    "    ),\n",
    "    FluidsynthMidiInput(\n",
    "        f'{intermediate_dir}/track_2.mid',\n",
    "        soundfont_path,\n",
    "        fluidsynth_chorus=True,\n",
    "        fluidsynth_reverb=False,\n",
    "    ),\n",
    "    SinethesizerMidiInput(\n",
    "        f'{intermediate_dir}/track_3.mid',\n",
    "        sinethesizer_presets_path,\n",
    "        track_name_to_instrument={'3': 'bowed_string'}\n",
    "    )\n",
    "]"
   ]
  },
  {
   "cell_type": "code",
   "execution_count": null,
   "metadata": {},
   "outputs": [],
   "source": [
    "project = Project(inputs, frame_rate=48000)"
   ]
  },
  {
   "cell_type": "markdown",
   "metadata": {},
   "source": [
    "### Case 4. Applying effects to tracks\n",
    "\n",
    "Actually, every function that takes `numpy` array as input and returns `numpy` array as output can be used for applying effects. In this tutorial, `sinethesizer` effects are chosen as an example."
   ]
  },
  {
   "cell_type": "markdown",
   "metadata": {},
   "source": [
    "A `sinethesizer` event is needed for all `sinethesizer` effects. For some effects, this event affects the output, but this is not the case for reverb and stereo-to-mono conversion. So let us create a placeholder. "
   ]
  },
  {
   "cell_type": "code",
   "execution_count": null,
   "metadata": {},
   "outputs": [],
   "source": [
    "dummy_event = Event(\n",
    "    instrument='does_not_matter',\n",
    "    start_time=0,\n",
    "    duration=1,\n",
    "    frequency=1,\n",
    "    velocity=1,\n",
    "    effects=\"\",\n",
    "    frame_rate=project.frame_rate\n",
    ")"
   ]
  },
  {
   "cell_type": "markdown",
   "metadata": {},
   "source": [
    "Now, apply the effects. Initial panning is erased with stereo-to-mono conversion and then room reverb creates new panning based on simulation of sound waves reflections."
   ]
  },
  {
   "cell_type": "code",
   "execution_count": null,
   "metadata": {},
   "outputs": [],
   "source": [
    "project.tracks[0] = apply_stereo_to_mono_conversion(project.tracks[0], dummy_event)\n",
    "project.tracks[0] = apply_room_reverb(\n",
    "    project.tracks[0],\n",
    "    dummy_event,\n",
    "    **{\n",
    "        \"room_length\": 65, \"room_width\": 25, \"room_height\": 15,\n",
    "        \"reflection_decay_factor\": 0.7, \"sound_speed\": 343,\n",
    "        \"listener_x\": 45, \"listener_y\": 12.5, \"listener_z\": 1.7,\n",
    "        \"listener_direction_x\": 1, \"listener_direction_y\": 0,\n",
    "        \"sound_source_x\": 57.124355652982146, \"sound_source_y\": 19.5, \"sound_source_z\": 4,\n",
    "        \"sound_source_direction_x\": -0.8660254037844387, \"sound_source_direction_y\": -0.5, \"sound_source_direction_z\": 0,\n",
    "        \"angle\": 1.5707963267948966, \"n_reflections\": 30\n",
    "    }\n",
    ")\n",
    "\n",
    "project.tracks[1] = apply_stereo_to_mono_conversion(project.tracks[1], dummy_event)\n",
    "project.tracks[1] = apply_room_reverb(\n",
    "    project.tracks[1],\n",
    "    dummy_event,\n",
    "    **{\n",
    "        \"room_length\": 65, \"room_width\": 25, \"room_height\": 15,\n",
    "        \"reflection_decay_factor\": 0.7, \"sound_speed\": 343,\n",
    "        \"listener_x\": 45, \"listener_y\": 12.5, \"listener_z\": 1.7,\n",
    "        \"listener_direction_x\": 1, \"listener_direction_y\": 0,\n",
    "        \"sound_source_x\": 57.124355652982146, \"sound_source_y\": 5.5, \"sound_source_z\": 4,\n",
    "        \"sound_source_direction_x\": -0.8660254037844387, \"sound_source_direction_y\": 0.5, \"sound_source_direction_z\": 0,\n",
    "        \"angle\": 1.5707963267948966, \"n_reflections\": 30\n",
    "    }\n",
    ")\n",
    "\n",
    "project.tracks[2] = apply_stereo_to_mono_conversion(project.tracks[2], dummy_event)\n",
    "project.tracks[2] = apply_room_reverb(\n",
    "    project.tracks[2],\n",
    "    dummy_event,\n",
    "    **{\n",
    "        \"room_length\": 65, \"room_width\": 25, \"room_height\": 15,\n",
    "        \"reflection_decay_factor\": 0.7, \"sound_speed\": 343,\n",
    "        \"listener_x\": 45, \"listener_y\": 12.5, \"listener_z\": 1.7,\n",
    "        \"listener_direction_x\": 1, \"listener_direction_y\": 0,\n",
    "        \"sound_source_x\": 59.0, \"sound_source_y\": 12.5, \"sound_source_z\": 4,\n",
    "        \"sound_source_direction_x\": -1.0, \"sound_source_direction_y\": -0.0, \"sound_source_direction_z\": 0,\n",
    "        \"angle\": 1.5707963267948966, \"n_reflections\": 30\n",
    "    }\n",
    ")"
   ]
  },
  {
   "cell_type": "markdown",
   "metadata": {},
   "source": [
    "### Case 5. Rehearsal of the project"
   ]
  },
  {
   "cell_type": "code",
   "execution_count": null,
   "metadata": {},
   "outputs": [],
   "source": [
    "# Below, track gains can be changed easily until mixed sound is good enough.\n",
    "timeline = project.mix(gains=[1.0, 1.0, 2.0])\n",
    "timeline /= np.max(np.abs(timeline))\n",
    "IPython.display.Audio(timeline, rate=project.frame_rate)"
   ]
  },
  {
   "cell_type": "markdown",
   "metadata": {},
   "source": [
    "### Case 6. Saving WAV output"
   ]
  },
  {
   "cell_type": "code",
   "execution_count": null,
   "metadata": {},
   "outputs": [],
   "source": [
    "write_timeline_to_wav(f'{output_dir}/result.wav', timeline, project.frame_rate)"
   ]
  }
 ],
 "metadata": {
  "kernelspec": {
   "display_name": "python3.9_env",
   "language": "python",
   "name": "python3.9_env"
  },
  "language_info": {
   "codemirror_mode": {
    "name": "ipython",
    "version": 3
   },
   "file_extension": ".py",
   "mimetype": "text/x-python",
   "name": "python",
   "nbconvert_exporter": "python",
   "pygments_lexer": "ipython3",
   "version": "3.9.4"
  }
 },
 "nbformat": 4,
 "nbformat_minor": 2
}
